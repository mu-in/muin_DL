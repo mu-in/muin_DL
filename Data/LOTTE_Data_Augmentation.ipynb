{
  "nbformat": 4,
  "nbformat_minor": 0,
  "metadata": {
    "colab": {
      "name": "LOTTE_Data_Augmentation.ipynb",
      "provenance": [],
      "collapsed_sections": []
    },
    "kernelspec": {
      "name": "python3",
      "display_name": "Python 3"
    },
    "language_info": {
      "name": "python"
    }
  },
  "cells": [
    {
      "cell_type": "markdown",
      "metadata": {
        "id": "VsFDW46WOSTZ"
      },
      "source": [
        "### python .xml to .json"
      ]
    },
    {
      "cell_type": "code",
      "metadata": {
        "id": "dZzzXZboMVGR"
      },
      "source": [
        "!pip install xmltodict"
      ],
      "execution_count": null,
      "outputs": []
    },
    {
      "cell_type": "code",
      "metadata": {
        "colab": {
          "base_uri": "https://localhost:8080/"
        },
        "id": "z5agxVuDOiOT",
        "outputId": "228fed1e-2d4b-4844-f2e7-5c885f6346e1"
      },
      "source": [
        "import json\n",
        "import xmltodict\n",
        "\n",
        "with open(\"/content/drive/MyDrive/LOTTE/LOTTE_sample/과자/10094_크라운)콘초66G/10094_0_m_10_meta.xml\",'r') as f:\n",
        "    xml_data = f.read()\n",
        "\n",
        "# jsonString = json.dumps(xmltodict.parse(xml_data), indent=4)\n",
        "json_data = xmltodict.parse(xml_data)\n",
        "\n",
        "print(json_data['comp_cd']['div_cd']['item_cd'])"
      ],
      "execution_count": null,
      "outputs": [
        {
          "output_type": "stream",
          "name": "stdout",
          "text": [
            "12920100001\n"
          ]
        }
      ]
    },
    {
      "cell_type": "markdown",
      "metadata": {
        "id": "cR8OpvV8h2Gw"
      },
      "source": [
        "### [Step0]: Lotte_sample Dataset Unzip"
      ]
    },
    {
      "cell_type": "code",
      "metadata": {
        "colab": {
          "base_uri": "https://localhost:8080/"
        },
        "id": "H0t-rYSTh-25",
        "outputId": "6d11976a-dd01-4a45-e667-6bccf74971f6"
      },
      "source": [
        "%cd /content/drive/MyDrive/LOTTE_sample"
      ],
      "execution_count": null,
      "outputs": [
        {
          "output_type": "stream",
          "name": "stdout",
          "text": [
            "/content/drive/MyDrive/LOTTE_sample\n"
          ]
        }
      ]
    },
    {
      "cell_type": "code",
      "metadata": {
        "id": "-cm5a5eLiFEx"
      },
      "source": [
        "!unzip -qq \"/content/drive/MyDrive/LOTTE_sample/LOTTE_sample.zip\""
      ],
      "execution_count": null,
      "outputs": []
    },
    {
      "cell_type": "markdown",
      "metadata": {
        "id": "5EDNFVHUIMzP"
      },
      "source": [
        "### [Step1]: Lotte_sample -> original_data "
      ]
    },
    {
      "cell_type": "code",
      "metadata": {
        "id": "OxSzxSv_ncMb"
      },
      "source": [
        "!pip install xmltodict"
      ],
      "execution_count": null,
      "outputs": []
    },
    {
      "cell_type": "code",
      "metadata": {
        "id": "FXYtfQBU_CY9"
      },
      "source": [
        "import shutil\n",
        "import json\n",
        "import xmltodict\n",
        "import glob\n",
        "import os\n",
        "\n",
        "parent_path = '/content/drive/MyDrive/LOTTE/LOTTE_sample'\n",
        "objects_path =  glob.glob(parent_path + '/*/*')\n",
        "\n",
        "annotation_path = '/content/drive/MyDrive/LOTTE/original_data/Training/annotation'\n",
        "images_path = '/content/drive/MyDrive/LOTTE/original_data/Training/images'\n",
        "\n",
        "for path in objects_path: # 상품 한종류씩\n",
        "    pathes = glob.glob(path + '/*')\n",
        "\n",
        "    # 확장자 별 분류\n",
        "    jpg_list = [file for file in pathes if file.endswith(\".jpg\")]\n",
        "    xml_list = [file for file in pathes if file.endswith(\".xml\")]\n",
        "    meta_xml_list = [file for file in pathes if file.endswith(\"_meta.xml\")] # item_cd 추출 위함\n",
        "\n",
        "    with open(meta_xml_list[0],'r') as f:\n",
        "        xml_data = f.read()\n",
        "    json_data = xmltodict.parse(xml_data)\n",
        "    \n",
        "    file_name = json_data['comp_cd']['div_cd']['item_cd']\n",
        "    os.mkdir(annotation_path + '/' + file_name)  # 해당 상품 'item_cd'로 폴더 생성 \n",
        "    os.mkdir(images_path + '/' + file_name)  # 해당 상품 'item_cd'로 폴더 생성 \n",
        "\n",
        "    # .jpg 파일 옮기기 \n",
        "    for path in jpg_list:\n",
        "        shutil.move(path, images_path+'/'+file_name+'/'+path.split('/')[-1])\n",
        "    # .xml, _meta.xml 파일 옮기기\n",
        "    for path in xml_list:\n",
        "        shutil.move(path, annotation_path+'/'+file_name+'/'+path.split('/')[-1])\n"
      ],
      "execution_count": null,
      "outputs": []
    },
    {
      "cell_type": "markdown",
      "metadata": {
        "id": "gOXmB3HN41RF"
      },
      "source": [
        "### [Step2]: original_data -> augmented_data"
      ]
    },
    {
      "cell_type": "code",
      "metadata": {
        "colab": {
          "base_uri": "https://localhost:8080/"
        },
        "id": "VdofT8o347LR",
        "outputId": "34dc8521-233c-40d1-ef59-fea462fbf258"
      },
      "source": [
        "!python3 /content/drive/MyDrive/LOTTE/data_augmentation.py --root_path /content/drive/MyDrive/LOTTE/original_data/Training/ --save_path /content/drive/MyDrive/LOTTE/augmented_data2/Training/ --resize_ratio 0.4 --data_num 800 --num_process 4 --extract_edge 1"
      ],
      "execution_count": null,
      "outputs": [
        {
          "output_type": "stream",
          "name": "stdout",
          "text": [
            "100% 200/200 [27:28<00:00,  8.24s/it]\n"
          ]
        }
      ]
    },
    {
      "cell_type": "markdown",
      "metadata": {
        "id": "KHopMaFP7csB"
      },
      "source": [
        "### Draw GT Boxes from \"LOTTE_annotation_No.json\" file"
      ]
    },
    {
      "cell_type": "code",
      "metadata": {
        "id": "71MBX7-A0kqg",
        "colab": {
          "base_uri": "https://localhost:8080/"
        },
        "outputId": "54f37b9c-3655-42aa-de8b-fac27dbca505"
      },
      "source": [
        "from PIL import Image, ImageDraw, ImageFont\n",
        "import json\n",
        "\n",
        "def Draw_GT(original_image, path, GT_group):\n",
        "    \n",
        "    # Annotate -> object별 annotation\n",
        "    annotated_image = original_image.convert('RGB')\n",
        "    draw = ImageDraw.Draw(annotated_image)\n",
        "    font = ImageFont.truetype(\"./calibril.ttf\", 15)\n",
        "\n",
        "    draw.text(xy=[10.0 ,10.0], text=str(path).upper(), fill='white',\n",
        "                  font=font) ## 좌측 상단 해당 이미지 path\n",
        "    \n",
        "    ## Drawing GT Box !!\n",
        "    # Suppress specific classes, if needed\n",
        "    for i in range(len(GT_group)):\n",
        "\n",
        "        # Boxes\n",
        "        box_location = [GT_group[i][0], GT_group[i][1], GT_group[i][2], GT_group[i][3]]\n",
        "        box_location = list(map(float, box_location))\n",
        "        draw.rectangle(xy=box_location, outline='#176bfc')\n",
        "        draw.rectangle(xy=[l + 1. for l in box_location], outline='#176bfc')  # a second rectangle at an offset of 1 pixel to increase line thickness\n",
        "            \n",
        "        # draw.rectangle(xy=[l + 2. for l in box_location], outline=label_color_map[\n",
        "        #     det_labels[i]])  # a third rectangle at an offset of 1 pixel to increase line thickness\n",
        "        # draw.rectangle(xy=[l + 3. for l in box_location], outline=label_color_map[\n",
        "        #     det_labels[i]])  # a fourth rectangle at an offset of 1 pixel to increase line thickness\n",
        "\n",
        "        # Text\n",
        "        text_size = font.getsize('GT'.upper())\n",
        "        text_location = [box_location[0] + 2., box_location[3]]\n",
        "        textbox_location = [box_location[0], box_location[3] + text_size[1], box_location[0] + text_size[0] + 4.,\n",
        "                            box_location[3]]\n",
        "        draw.rectangle(xy=textbox_location, fill='#176bfc')\n",
        "        draw.text(xy=text_location, text='GT'.upper(), fill='white',\n",
        "                  font=font)\n",
        "        \n",
        "    del draw\n",
        "  \n",
        "    return annotated_image\n",
        "\n",
        "\n",
        "if __name__ == '__main__':\n",
        "\n",
        "    with open('/content/drive/MyDrive/LOTTE_annotation_169.json', 'r') as f:\n",
        "        json_data = json.load(f)\n",
        "    f.close()\n",
        "    \n",
        "    # f = open(\"/content/drive/MyDrive/RGBTDv2/test_split.txt\", 'r')\n",
        "    # lines = f.readlines()\n",
        "\n",
        "    for idx, image_dict in enumerate(json_data):\n",
        "\n",
        "        original_image = Image.open(image_dict['pathes'], mode='r')\n",
        "        original_image = original_image.convert('RGB')\n",
        "        Draw_GT(original_image, image_dict['pathes'], image_dict['boxes']).save('/content/drive/MyDrive/LOTTE_sample_GT/GT_image_' + str(idx+1) +'.jpg','JPEG')\n",
        "\n",
        "        if idx % 20 == 0: # 얼마나 진행되었는지 확인용\n",
        "          print(idx)\n",
        "    print(\"Making GT boxes on Combination Images Complete!\")\n"
      ],
      "execution_count": null,
      "outputs": [
        {
          "output_type": "stream",
          "name": "stdout",
          "text": [
            "0\n",
            "20\n",
            "40\n",
            "60\n",
            "80\n",
            "100\n",
            "120\n",
            "140\n",
            "160\n",
            "Making GT boxes on Combination Images Complete!\n"
          ]
        }
      ]
    },
    {
      "cell_type": "markdown",
      "metadata": {
        "id": "o1FLGMKfKvqt"
      },
      "source": [
        "### Make Video from  GT annotated images"
      ]
    },
    {
      "cell_type": "code",
      "metadata": {
        "id": "2HvDQ-KVKvXC"
      },
      "source": [
        "import re\n",
        "import cv2\n",
        "import os\n",
        "import numpy as np\n",
        "import natsort ## 문자열로 된 숫자를 정렬하고 싶을 때!!\n",
        "\n",
        "if __name__ == '__main__':\n",
        "    path = '/content/drive/MyDrive/LOTTE_sample_GT' # \"ims/2/a\"\n",
        "    paths = [os.path.join(path , i ) for i in os.listdir(path) if re.search(\".jpg$\", i)]\n",
        "    # paths = natsort.natsorted(paths)\n",
        "\n",
        "    #pathIn= './ims/2/'\n",
        "    pathOut = '/content/drive/MyDrive/LOTTE_samples_video.mp4'\n",
        "    fps = 1\n",
        "\n",
        "    frame_array = []\n",
        "    for idx , path in enumerate(paths) :\n",
        "\n",
        "        img = cv2.imread(path)\n",
        "        height, width, layers = img.shape\n",
        "        size = (width,height)\n",
        "        frame_array.append(img)\n",
        "    out = cv2.VideoWriter(pathOut,cv2.VideoWriter_fourcc(*'mp4v'), fps, size)\n",
        "    for i in range(len(frame_array)):\n",
        "        # writing to a image array\n",
        "        out.write(frame_array[i])\n",
        "    out.release()\n"
      ],
      "execution_count": null,
      "outputs": []
    }
  ]
}