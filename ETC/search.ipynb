{
  "nbformat": 4,
  "nbformat_minor": 0,
  "metadata": {
    "colab": {
      "name": "search.ipynb",
      "provenance": [],
      "collapsed_sections": []
    },
    "kernelspec": {
      "name": "python3",
      "display_name": "Python 3"
    },
    "language_info": {
      "name": "python"
    }
  },
  "cells": [
    {
      "cell_type": "code",
      "metadata": {
        "colab": {
          "base_uri": "https://localhost:8080/",
          "height": 363
        },
        "id": "rcmVH6fIhuO0",
        "outputId": "263de5d7-651f-4ee1-afb0-85eb5fc4d2d5"
      },
      "source": [
        "import pandas as pd # .csv 파일을 데이터 프레임 형태로 읽기 위함\n",
        "test_df = pd.DataFrame(pd.read_csv('/content/drive/MyDrive/test.csv', encoding='CP949'))\n",
        "names = list(test_df['name'])\n",
        "\n",
        "test_df.iloc[:,:] # 확인"
      ],
      "execution_count": null,
      "outputs": [
        {
          "output_type": "execute_result",
          "data": {
            "text/html": [
              "<div>\n",
              "<style scoped>\n",
              "    .dataframe tbody tr th:only-of-type {\n",
              "        vertical-align: middle;\n",
              "    }\n",
              "\n",
              "    .dataframe tbody tr th {\n",
              "        vertical-align: top;\n",
              "    }\n",
              "\n",
              "    .dataframe thead th {\n",
              "        text-align: right;\n",
              "    }\n",
              "</style>\n",
              "<table border=\"1\" class=\"dataframe\">\n",
              "  <thead>\n",
              "    <tr style=\"text-align: right;\">\n",
              "      <th></th>\n",
              "      <th>id</th>\n",
              "      <th>name</th>\n",
              "      <th>price</th>\n",
              "    </tr>\n",
              "  </thead>\n",
              "  <tbody>\n",
              "    <tr>\n",
              "      <th>0</th>\n",
              "      <td>1</td>\n",
              "      <td>콘초1</td>\n",
              "      <td>100</td>\n",
              "    </tr>\n",
              "    <tr>\n",
              "      <th>1</th>\n",
              "      <td>2</td>\n",
              "      <td>스윙칩</td>\n",
              "      <td>200</td>\n",
              "    </tr>\n",
              "    <tr>\n",
              "      <th>2</th>\n",
              "      <td>3</td>\n",
              "      <td>포테이토칩</td>\n",
              "      <td>300</td>\n",
              "    </tr>\n",
              "    <tr>\n",
              "      <th>3</th>\n",
              "      <td>4</td>\n",
              "      <td>초코송이</td>\n",
              "      <td>400</td>\n",
              "    </tr>\n",
              "    <tr>\n",
              "      <th>4</th>\n",
              "      <td>5</td>\n",
              "      <td>콘초2</td>\n",
              "      <td>500</td>\n",
              "    </tr>\n",
              "    <tr>\n",
              "      <th>5</th>\n",
              "      <td>6</td>\n",
              "      <td>바나나킥</td>\n",
              "      <td>600</td>\n",
              "    </tr>\n",
              "    <tr>\n",
              "      <th>6</th>\n",
              "      <td>7</td>\n",
              "      <td>초코파이</td>\n",
              "      <td>700</td>\n",
              "    </tr>\n",
              "    <tr>\n",
              "      <th>7</th>\n",
              "      <td>8</td>\n",
              "      <td>콘초_바나나</td>\n",
              "      <td>800</td>\n",
              "    </tr>\n",
              "    <tr>\n",
              "      <th>8</th>\n",
              "      <td>9</td>\n",
              "      <td>왕뚜껑</td>\n",
              "      <td>900</td>\n",
              "    </tr>\n",
              "    <tr>\n",
              "      <th>9</th>\n",
              "      <td>10</td>\n",
              "      <td>콘초_초코</td>\n",
              "      <td>1000</td>\n",
              "    </tr>\n",
              "  </tbody>\n",
              "</table>\n",
              "</div>"
            ],
            "text/plain": [
              "   id    name  price\n",
              "0   1     콘초1    100\n",
              "1   2     스윙칩    200\n",
              "2   3   포테이토칩    300\n",
              "3   4    초코송이    400\n",
              "4   5     콘초2    500\n",
              "5   6    바나나킥    600\n",
              "6   7    초코파이    700\n",
              "7   8  콘초_바나나    800\n",
              "8   9     왕뚜껑    900\n",
              "9  10   콘초_초코   1000"
            ]
          },
          "metadata": {},
          "execution_count": 8
        }
      ]
    },
    {
      "cell_type": "code",
      "metadata": {
        "id": "JNMxh7xAoDG2"
      },
      "source": [
        "# 초성 검출 함수\n",
        "def getChosung(text):\n",
        "\n",
        "    CHOSUNG_START_LETTER = 4352\n",
        "    JAMO_START_LETTER = 44032\n",
        "    JAMO_END_LETTER = 55203\n",
        "    JAMO_CYCLE = 588\n",
        "\n",
        "    def isHangul(ch):\n",
        "        return ord(ch) >= JAMO_START_LETTER and ord(ch) <= JAMO_END_LETTER\n",
        "\n",
        "    result = text\n",
        "\n",
        "    for ch in text:\n",
        "        if isHangul(ch): #한글이 아닌 글자는 걸러냅니다.\n",
        "            result += chr(int((ord(ch) - JAMO_START_LETTER)/JAMO_CYCLE + CHOSUNG_START_LETTER) + 8252)     \n",
        "            # +8252 가 핵심!! <- ord() 찍어봤더니 달랐음\n",
        "\n",
        "    return result"
      ],
      "execution_count": null,
      "outputs": []
    },
    {
      "cell_type": "code",
      "metadata": {
        "colab": {
          "base_uri": "https://localhost:8080/"
        },
        "id": "sLYTdRWCoLwS",
        "outputId": "647c9415-57b5-4763-bcaf-24d4489ae156"
      },
      "source": [
        "input = 'ㅋㅊ' # 검색창\n",
        "\n",
        "for idx, name in enumerate(names):\n",
        "    if input in getChosung(name):\n",
        "        print('제품명: {:10s}   ,제품가격: {:5d}'.format(name, test_df.iloc[idx]['price']))\n",
        "        print(\"\")"
      ],
      "execution_count": null,
      "outputs": [
        {
          "output_type": "stream",
          "name": "stdout",
          "text": [
            "제품명: 콘초1          ,제품가격:   100\n",
            "\n",
            "제품명: 콘초2          ,제품가격:   500\n",
            "\n",
            "제품명: 콘초_바나나       ,제품가격:   800\n",
            "\n",
            "제품명: 콘초_초코        ,제품가격:  1000\n",
            "\n"
          ]
        }
      ]
    }
  ]
}